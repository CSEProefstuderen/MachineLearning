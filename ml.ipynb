{
 "cells": [
  {
   "cell_type": "markdown",
   "source": [
    "# Machine Learning Assignment\n",
    "\n",
    "For this assignment you will be using the \"Cardiovascular Disease Risk Dataset\" provided in the assignment folder. You will be performing k-means clustering on this dataset to cluster individuals based on their BMI and Abdomnial Circumference. You can see how the amount of clusters will affect how your data looks.\n",
    "\n",
    "First we have to import the different libraries that we need to perform the analysis."
   ],
   "metadata": {
    "collapsed": false
   }
  },
  {
   "cell_type": "code",
   "execution_count": null,
   "outputs": [],
   "source": [
    "import pandas as pd\n",
    "import matplotlib.pyplot as plt\n",
    "import seaborn as sns \n",
    "from sklearn.cluster import KMeans\n",
    "from sklearn.preprocessing import StandardScaler\n",
    "import ipywidgets as widgets\n",
    "\n",
    "num_clusters = widgets.IntSlider(value=3, min=0, max=5, step=1, description='Number of Clusters:') # Ignore this"
   ],
   "metadata": {
    "collapsed": false
   }
  },
  {
   "cell_type": "markdown",
   "source": [
    "Then we will load the dataset and check the first few rows to see what the data looks like. "
   ],
   "metadata": {
    "collapsed": false
   }
  },
  {
   "cell_type": "code",
   "execution_count": null,
   "outputs": [],
   "source": [
    "df = pd.read_csv(\"Cardiovascular_Disease_Risk_Dataset.csv\")\n",
    "\n",
    "df.head()"
   ],
   "metadata": {
    "collapsed": false
   }
  },
  {
   "cell_type": "markdown",
   "source": [
    "We only want to use the BMI and Abdominal Circumference for our analysis. We will convert these columns to numeric and drop any rows that have missing values."
   ],
   "metadata": {
    "collapsed": false
   }
  },
  {
   "cell_type": "code",
   "execution_count": null,
   "outputs": [],
   "source": [
    "axis_1 = 'BMI'\n",
    "axis_2 = 'ABDOMINAL CIRCUMFERENCE'\n",
    "\n",
    "df[axis_1] = pd.to_numeric(df[axis_1], errors='coerce')\n",
    "df[axis_2] = pd.to_numeric(df[axis_2], errors='coerce')\n",
    "df.dropna(subset=[axis_1, axis_2], inplace=True)\n",
    "\n",
    "X = df[[axis_1, axis_2]]\n",
    "\n",
    "df.head()\n",
    "\n",
    "scaler = StandardScaler()\n",
    "X_scaled = scaler.fit_transform(X)"
   ],
   "metadata": {
    "collapsed": false
   }
  },
  {
   "cell_type": "markdown",
   "source": [
    "Now we will choose the amount of clusters we want to use."
   ],
   "metadata": {
    "collapsed": false
   }
  },
  {
   "cell_type": "code",
   "execution_count": null,
   "outputs": [],
   "source": [
    "num_clusters"
   ],
   "metadata": {
    "collapsed": false
   }
  },
  {
   "cell_type": "markdown",
   "source": [
    "You can change the number of the slider above and then run the code below to see how the clusters change."
   ],
   "metadata": {
    "collapsed": false
   }
  },
  {
   "cell_type": "code",
   "execution_count": null,
   "outputs": [],
   "source": [
    "# Based on the Elbow method, choose the optimal k (let's say k=3)\n",
    "kmeans = KMeans(n_clusters=num_clusters.value, random_state=100)\n",
    "kmeans.fit(X_scaled)\n",
    "\n",
    "# Get the cluster labels for each data point\n",
    "labels = kmeans.labels_\n",
    "\n",
    "# Add the cluster labels to the DataFrame\n",
    "df['Cluster'] = labels\n",
    "\n",
    "# Visualize the clusters\n",
    "plt.figure(figsize=(8, 6))\n",
    "sns.scatterplot(x=axis_1, y=axis_2, hue='Cluster', data=df, palette='viridis')\n",
    "plt.title(f'K-means Clustering of {axis_1} and {axis_2}')\n",
    "plt.show()"
   ],
   "metadata": {
    "collapsed": false
   }
  },
  {
   "cell_type": "markdown",
   "source": [
    "**Exercise 1.** How many clusters show the best separation between the data points? Why?\n",
    "**Exercise 2.** What do you think the clusters represent in this dataset? How would you label them?"
   ],
   "metadata": {
    "collapsed": false
   }
  },
  {
   "cell_type": "code",
   "execution_count": null,
   "outputs": [],
   "source": [
    "# YOUR ANSWER HERE\n",
    "#\n",
    "#\n",
    "#\n",
    "#\n",
    "#\n",
    "#"
   ],
   "metadata": {
    "collapsed": false
   }
  },
  {
   "cell_type": "markdown",
   "source": [
    "Congratulations! You finished the assignment."
   ],
   "metadata": {
    "collapsed": false
   }
  },
  {
   "cell_type": "code",
   "execution_count": null,
   "outputs": [],
   "source": [],
   "metadata": {
    "collapsed": false
   }
  }
 ],
 "metadata": {
  "language_info": {
   "name": "python"
  },
  "kernelspec": {
   "name": "python3",
   "language": "python",
   "display_name": "Python 3 (ipykernel)"
  }
 },
 "nbformat": 4,
 "nbformat_minor": 2
}
